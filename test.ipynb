{
 "cells": [
  {
   "cell_type": "code",
   "execution_count": 1,
   "metadata": {},
   "outputs": [
    {
     "name": "stdout",
     "output_type": "stream",
     "text": [
      "'open' took: 2.9424 sec\n",
      "'download' took: 10.7277 sec\n"
     ]
    }
   ],
   "source": [
    "\n",
    "from gridwb.workbench import *\n",
    "import pandas as pd\n",
    "\n",
    "# Open Case\n",
    "CASE  = r\".\\case1_Texas2000_test.pwb\"\n",
    "wb = GridWorkBench(CASE) "
   ]
  },
  {
   "cell_type": "code",
   "execution_count": 2,
   "metadata": {},
   "outputs": [],
   "source": []
  },
  {
   "cell_type": "code",
   "execution_count": 4,
   "metadata": {},
   "outputs": [],
   "source": [
    "\n",
    "def write_gen_params(CASE, fname_steam, fname_gas, fname_gen):\n",
    "    '''Run this with Wb in py 3.11'''\n",
    "\n",
    "    wb = GridWorkBench(CASE) \n",
    "    esa = wb.io.esa\n",
    "\n",
    "    # Not neccessary\n",
    "    esa.SolvePowerFlow('Flatstart')\n",
    "\n",
    "\n",
    "    # STEAM\n",
    "    gen_steam_key_fields = esa.get_key_field_list('Governor_IEEEG1')\n",
    "    params_steam = gen_steam_key_fields + ['TSK', 'TSK:1', 'TSK:3', 'TSK:5', 'TSK:7', \n",
    "                                           'TST:1', 'TST:2', 'TST:3', 'TST:4', 'TST:5', 'TST:6', 'TST:7',\n",
    "                                           'TSPmax', 'TSPmin']\n",
    "    gov_data_steam = esa.GetParametersMultipleElement(ObjectType='Governor_IEEEG1', ParamList=params_steam)\n",
    "\n",
    "    # GAS\n",
    "    gen_gas_key_fields = esa.get_key_field_list('Governor_GGOV1')\n",
    "    params_gas = gen_gas_key_fields + ['TSR', 'TSKpgov', 'TSKigov', 'TSTact', 'TSKturb', \n",
    "                                       'TSWfnl', 'TSTb', 'TSTfload', 'TSKpload', 'TSKiload', 'TSLdref', 'TSTsa', 'TSTsb', \n",
    "                                       'TSVmax', 'TSVmin']\n",
    "    gov_data_gas = esa.GetParametersMultipleElement(ObjectType='Governor_GGOV1', ParamList=params_gas)\n",
    "\n",
    "    # GENERATOR INFO\n",
    "    params =  esa.get_key_field_list('gen') + ['GenMVABase', 'TSH', 'GenStatus', 'TSGenGovernorName','GenMW']\n",
    "    gen_data = esa.GetParametersMultipleElement(ObjectType='gen', ParamList=params)\n",
    "\n",
    "\n",
    "    # Save data to CSV files\n",
    "    gov_data_steam.to_csv(fname_steam, index=False)\n",
    "    gov_data_gas.to_csv(fname_gas, index=False)\n",
    "    gen_data.to_csv(fname_gen, index=False)\n"
   ]
  },
  {
   "cell_type": "code",
   "execution_count": 5,
   "metadata": {},
   "outputs": [
    {
     "name": "stdout",
     "output_type": "stream",
     "text": [
      "'open' took: 2.6706 sec\n",
      "'download' took: 10.7671 sec\n"
     ]
    }
   ],
   "source": [
    "fname_steam, fname_gas, fname_gen = 'data/IEEEG1_data.csv', 'data/GGOV1_data.csv', 'data/GEN_data.csv'\n",
    "CASE  = r\".\\case1_Texas2000_test.pwb\"\n",
    "write_gen_params(CASE, fname_steam, fname_gas, fname_gen)"
   ]
  },
  {
   "cell_type": "code",
   "execution_count": 2,
   "metadata": {},
   "outputs": [],
   "source": [
    "import pandas as pd"
   ]
  },
  {
   "cell_type": "code",
   "execution_count": 3,
   "metadata": {},
   "outputs": [],
   "source": [
    "fname_output = \"data/OUTPUT.csv\"\n",
    "output = pd.read_csv(fname_output)"
   ]
  },
  {
   "cell_type": "code",
   "execution_count": 6,
   "metadata": {},
   "outputs": [
    {
     "data": {
      "text/plain": [
       "dtype('O')"
      ]
     },
     "execution_count": 6,
     "metadata": {},
     "output_type": "execute_result"
    }
   ],
   "source": [
    "output['ramp'].dtypes"
   ]
  },
  {
   "cell_type": "code",
   "execution_count": 3,
   "metadata": {},
   "outputs": [
    {
     "data": {
      "text/html": [
       "<div>\n",
       "<style scoped>\n",
       "    .dataframe tbody tr th:only-of-type {\n",
       "        vertical-align: middle;\n",
       "    }\n",
       "\n",
       "    .dataframe tbody tr th {\n",
       "        vertical-align: top;\n",
       "    }\n",
       "\n",
       "    .dataframe thead th {\n",
       "        text-align: right;\n",
       "    }\n",
       "</style>\n",
       "<table border=\"1\" class=\"dataframe\">\n",
       "  <thead>\n",
       "    <tr style=\"text-align: right;\">\n",
       "      <th></th>\n",
       "      <th>a</th>\n",
       "      <th>b</th>\n",
       "    </tr>\n",
       "  </thead>\n",
       "  <tbody>\n",
       "    <tr>\n",
       "      <th>0</th>\n",
       "      <td>1</td>\n",
       "      <td>3</td>\n",
       "    </tr>\n",
       "    <tr>\n",
       "      <th>1</th>\n",
       "      <td>2</td>\n",
       "      <td>4</td>\n",
       "    </tr>\n",
       "    <tr>\n",
       "      <th>2</th>\n",
       "      <td>3</td>\n",
       "      <td>5</td>\n",
       "    </tr>\n",
       "  </tbody>\n",
       "</table>\n",
       "</div>"
      ],
      "text/plain": [
       "   a  b\n",
       "0  1  3\n",
       "1  2  4\n",
       "2  3  5"
      ]
     },
     "execution_count": 3,
     "metadata": {},
     "output_type": "execute_result"
    }
   ],
   "source": [
    "output = {'a': [1, 2, 3], 'b': [3, 4, 5]}\n",
    "pd.DataFrame.from_dict(output)"
   ]
  }
 ],
 "metadata": {
  "kernelspec": {
   "display_name": "jfreq",
   "language": "python",
   "name": "python3"
  },
  "language_info": {
   "codemirror_mode": {
    "name": "ipython",
    "version": 3
   },
   "file_extension": ".py",
   "mimetype": "text/x-python",
   "name": "python",
   "nbconvert_exporter": "python",
   "pygments_lexer": "ipython3",
   "version": "3.11.10"
  },
  "orig_nbformat": 4
 },
 "nbformat": 4,
 "nbformat_minor": 2
}
